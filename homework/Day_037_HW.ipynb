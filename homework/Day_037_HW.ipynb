{
 "cells": [
  {
   "cell_type": "markdown",
   "metadata": {},
   "source": [
    "## [作業重點]\n",
    "了解線性回歸的模型發展歷程，並了解優勢與劣勢，以及其使用情境"
   ]
  },
  {
   "cell_type": "markdown",
   "metadata": {},
   "source": [
    "## 作業"
   ]
  },
  {
   "cell_type": "markdown",
   "metadata": {},
   "source": [
    "請閱讀以下相關文獻，並回答以下問題\n",
    "\n",
    "[Linear Regression 詳細介紹](https://brohrer.mcknote.com/zh-Hant/how_machine_learning_works/how_linear_regression_works.html)\n",
    "\n",
    "[Logistics Regression 詳細介紹](https://medium.com/@yehjames/%E8%B3%87%E6%96%99%E5%88%86%E6%9E%90-%E6%A9%9F%E5%99%A8%E5%AD%B8%E7%BF%92-%E7%AC%AC3-3%E8%AC%9B-%E7%B7%9A%E6%80%A7%E5%88%86%E9%A1%9E-%E9%82%8F%E8%BC%AF%E6%96%AF%E5%9B%9E%E6%AD%B8-logistic-regression-%E4%BB%8B%E7%B4%B9-a1a5f47017e5)\n"
   ]
  },
  {
   "cell_type": "markdown",
   "metadata": {},
   "source": [
    "1. 線性回歸模型能夠準確預測非線性關係的資料集嗎?\n",
    "2. 回歸模型是否對資料分布有基本假設?\n",
    "\n",
    "#正確解答:\n",
    "1. 若是線性回歸 Linear regression 是無法準確預測非線性的資料集的，即使有很多參數，仍然是使用線性的方式來擬和資料。所以當資料具有非線性的關係時，Linear Regression 的表現就會變差。Logistic Regression 雖然是廣義的線性模型，但經過 Sigmoid 函數以及 kernel trick(SVM的核函數)，是可以解決非線性問題的\n",
    "\n",
    "2. 通常對資料有五個基本假設:\n",
    "   (1)線性與可疊加性:x1對Y的影響與x2的影響互相獨立\n",
    "   (2)誤差項之間應相互獨立(若不滿足成為自相關性autocorrelation)\n",
    "   (3)特徵自變量(x1,x2,...)彼此之間互相獨立(若不滿足稱為多重共線性multicolinearity)\n",
    "   (4)誤差項的方差應為常數(同方差項homoskedasticity, 若不滿足稱為異方差項Heteroskedasticity)\n",
    "   (5)誤差項應為常態分佈\n",
    "   當然現今模型有許多技巧即使資料不符合基本假設一樣能夠訓練，但對模型使用的基本限制有一定的了解能夠幫助你找出訓練不佳的問題是什麼。\n"
   ]
  },
  {
   "cell_type": "code",
   "execution_count": null,
   "metadata": {},
   "outputs": [],
   "source": [
    "#錯誤觀念\n",
    "1. 可以, 可以透過增加資料集的變數(features), ex:y_pred=b+w1x1+w2x2+w3x1x2+w4x1^2+.........但是缺點是極容易過擬合overfit\n",
    "2. 回歸模型的資料分布通常會假設接近常態分佈, 若變量之間的數值差異過大, 通常會先進行標準正規化的前處理步驟, 也會針對離群值進行捨棄或修正的動作"
   ]
  }
 ],
 "metadata": {
  "kernelspec": {
   "display_name": "Python 3",
   "language": "python",
   "name": "python3"
  },
  "language_info": {
   "codemirror_mode": {
    "name": "ipython",
    "version": 3
   },
   "file_extension": ".py",
   "mimetype": "text/x-python",
   "name": "python",
   "nbconvert_exporter": "python",
   "pygments_lexer": "ipython3",
   "version": "3.7.3"
  }
 },
 "nbformat": 4,
 "nbformat_minor": 2
}
