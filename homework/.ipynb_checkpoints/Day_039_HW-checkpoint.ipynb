{
 "cells": [
  {
   "cell_type": "markdown",
   "metadata": {},
   "source": [
    "## [作業重點]\n",
    "清楚了解 L1, L2 的意義與差異為何，並了解 LASSO 與 Ridge 之間的差異與使用情境"
   ]
  },
  {
   "cell_type": "markdown",
   "metadata": {},
   "source": [
    "## 作業"
   ]
  },
  {
   "cell_type": "markdown",
   "metadata": {},
   "source": [
    "請閱讀相關文獻，並回答下列問題\n",
    "\n",
    "[脊回歸 (Ridge Regression)](https://blog.csdn.net/daunxx/article/details/51578787)\n",
    "[Linear, Ridge, Lasso Regression 本質區別](https://www.zhihu.com/question/38121173)\n",
    "\n",
    "1. LASSO 回歸可以被用來作為 Feature selection 的工具，請了解 LASSO 模型為什麼可用來作 Feature selection\n",
    "2. 當自變數 (X) 存在高度共線性時，Ridge Regression 可以處理這樣的問題嗎?\n"
   ]
  },
  {
   "cell_type": "code",
   "execution_count": null,
   "metadata": {},
   "outputs": [],
   "source": [
    "1. LASSO回歸可以被用來作為Feature selection的工具因為目標函數為argmin(y-wx)^2+alpha*abs(w), 要讓目標函數(誤差)達到最小的同時, \n",
    "   絕對值項也不能太大, 若隨著懲罰度alpha增加, 越來越多係數w會變為0, 故能作為特徵選取, 但若懲罰度太大, 會使魔星變得過於簡單,變成unddrfitting.\n",
    "   \n",
    "2. 當自變數(X)存在高度共線性時(此時設計矩陣稱為病態矩陣, least squared method所求得的特徵參數w在數值上會很大, 而一般線性迴歸模型\n",
    "   是y=np.dot(w.T,X), 顯然地, 因為w數值非常大, 所以若input x有些許噪音變動, 其反應output在結果上會變得非常大, 這就是對輸入變量的\n",
    "   噪音非常敏感的原因. 如果能限制參數w的增長, 使w不會變得太大, 那麼模型對輸入w中噪音的敏感度就會降低。這就是脊回歸和套索回歸\n",
    "  （Ridge Regression and Lasso Regrission）的基本思想。為了限制模型参数w的数值大小，就在模型原来的目標函数上加上一个懲罰項, 這個\n",
    "   過程就稱為正規化(Regularization).\n"
   ]
  }
 ],
 "metadata": {
  "kernelspec": {
   "display_name": "Python 3",
   "language": "python",
   "name": "python3"
  },
  "language_info": {
   "codemirror_mode": {
    "name": "ipython",
    "version": 3
   },
   "file_extension": ".py",
   "mimetype": "text/x-python",
   "name": "python",
   "nbconvert_exporter": "python",
   "pygments_lexer": "ipython3",
   "version": "3.7.3"
  }
 },
 "nbformat": 4,
 "nbformat_minor": 2
}
