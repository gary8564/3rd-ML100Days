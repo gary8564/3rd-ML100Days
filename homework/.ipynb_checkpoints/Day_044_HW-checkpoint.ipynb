{
 "cells": [
  {
   "cell_type": "markdown",
   "metadata": {},
   "source": [
    "## [作業重點]\n",
    "確保你了解隨機森林模型中每個超參數的意義，並觀察調整超參數對結果的影響"
   ]
  },
  {
   "cell_type": "markdown",
   "metadata": {},
   "source": [
    "## 作業\n",
    "\n",
    "1. 試著調整 RandomForestClassifier(...) 中的參數，並觀察是否會改變結果？\n",
    "\n",
    "調整參數對結果影響並無太大差異, 因為原先使用決策樹進行預測的結果已經很好了, 所以調整randomforestclassifier參數並無太大差異\n",
    "\n",
    "2. 改用其他資料集 (boston, wine)，並與回歸模型與決策樹的結果進行比較\n",
    "\n",
    "與上一個作業同樣使用boston資料來訓練Regressor, 可以發現使用隨機森林比決策樹的結果好很多"
   ]
  },
  {
   "cell_type": "code",
   "execution_count": 1,
   "metadata": {},
   "outputs": [],
   "source": [
    "from sklearn import datasets, metrics\n",
    "from sklearn.ensemble import RandomForestClassifier, RandomForestRegressor\n",
    "from sklearn.model_selection import train_test_split"
   ]
  },
  {
   "cell_type": "code",
   "execution_count": 2,
   "metadata": {},
   "outputs": [
    {
     "name": "stdout",
     "output_type": "stream",
     "text": [
      "Accuracy:  0.9736842105263158\n",
      "['sepal length (cm)', 'sepal width (cm)', 'petal length (cm)', 'petal width (cm)']\n",
      "Feature importance:  [0.08443378 0.01230998 0.47368538 0.42957086]\n"
     ]
    }
   ],
   "source": [
    "# 試著調整 RandomForestClassifier(...) 中的參數，並觀察是否會改變結果\n",
    "# 讀取鳶尾花資料集\n",
    "iris = datasets.load_iris()\n",
    "\n",
    "# 切分訓練集/測試集\n",
    "x_train, x_test, y_train, y_test = train_test_split(iris.data, iris.target, test_size=0.25, random_state=4)\n",
    "\n",
    "# 建立模型 (使用100顆樹，每棵樹的最大深度為3, 最少要10筆資料才能分組, leaf node裡的資料數量至少為1)\n",
    "clf = RandomForestClassifier(n_estimators=100, max_depth=3, min_samples_split=10, min_samples_leaf=1)\n",
    "\n",
    "# 訓練模型\n",
    "clf.fit(x_train, y_train)\n",
    "\n",
    "# 預測測試集\n",
    "y_pred = clf.predict(x_test)\n",
    "\n",
    "acc = metrics.accuracy_score(y_test, y_pred)\n",
    "print(\"Accuracy: \", acc)\n",
    "print(iris.feature_names)\n",
    "print(\"Feature importance: \", clf.feature_importances_)"
   ]
  },
  {
   "cell_type": "code",
   "execution_count": 5,
   "metadata": {},
   "outputs": [
    {
     "name": "stdout",
     "output_type": "stream",
     "text": [
      "R_squared_error:  0.8074188547761527\n",
      "['CRIM' 'ZN' 'INDUS' 'CHAS' 'NOX' 'RM' 'AGE' 'DIS' 'RAD' 'TAX' 'PTRATIO'\n",
      " 'B' 'LSTAT']\n",
      "Feature importance:  [4.68355707e-02 2.49739874e-05 2.75512361e-03 2.02523045e-03\n",
      " 1.45097386e-02 5.12619534e-01 4.09711162e-03 4.71573683e-02\n",
      " 1.74249872e-03 6.10934181e-03 1.46076543e-02 7.22419800e-03\n",
      " 3.40291656e-01]\n"
     ]
    }
   ],
   "source": [
    "#改用其他資料集 (boston, wine)\n",
    "# 讀取波士頓資料集\n",
    "boston = datasets.load_boston()\n",
    "\n",
    "# 切分訓練集/測試集\n",
    "x_train, x_test, y_train, y_test = train_test_split(boston.data, boston.target, test_size=0.25, random_state=4)\n",
    "\n",
    "# 建立模型 (使用100顆樹，每棵樹的最大深度為4, 最少要3筆資料才能分組, leaf node裡的資料數量至少為1)\n",
    "regclf = RandomForestRegressor(n_estimators=100, max_depth=4, min_samples_split=3, min_samples_leaf=1)\n",
    "\n",
    "# 訓練模型\n",
    "regclf.fit(x_train, y_train)\n",
    "\n",
    "# 預測測試集\n",
    "y_pred = regclf.predict(x_test)\n",
    "\n",
    "rsquared = metrics.r2_score(y_test, y_pred)\n",
    "print(\"R_squared_error: \", rsquared)\n",
    "print(boston.feature_names)\n",
    "print(\"Feature importance: \", regclf.feature_importances_)"
   ]
  }
 ],
 "metadata": {
  "kernelspec": {
   "display_name": "Python 3",
   "language": "python",
   "name": "python3"
  },
  "language_info": {
   "codemirror_mode": {
    "name": "ipython",
    "version": 3
   },
   "file_extension": ".py",
   "mimetype": "text/x-python",
   "name": "python",
   "nbconvert_exporter": "python",
   "pygments_lexer": "ipython3",
   "version": "3.7.3"
  }
 },
 "nbformat": 4,
 "nbformat_minor": 2
}
